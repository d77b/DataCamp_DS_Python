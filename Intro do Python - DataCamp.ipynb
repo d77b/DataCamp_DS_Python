{
  "nbformat": 4,
  "nbformat_minor": 0,
  "metadata": {
    "kernelspec": {
      "display_name": "Python 3",
      "language": "python",
      "name": "python3"
    },
    "language_info": {
      "codemirror_mode": {
        "name": "ipython",
        "version": 3
      },
      "file_extension": ".py",
      "mimetype": "text/x-python",
      "name": "python",
      "nbconvert_exporter": "python",
      "pygments_lexer": "ipython3",
      "version": "3.8.5"
    },
    "colab": {
      "name": "Intro do Python - DataCamp.ipynb",
      "provenance": []
    }
  },
  "cells": [
    {
      "cell_type": "markdown",
      "metadata": {
        "id": "idEZz7bZLGkC"
      },
      "source": [
        "# Estudando Listas"
      ]
    },
    {
      "cell_type": "code",
      "metadata": {
        "id": "z0sb3SOfLGkG"
      },
      "source": [
        "x = [\"a\", \"b\", \"c\", \"d\"]"
      ],
      "execution_count": null,
      "outputs": []
    },
    {
      "cell_type": "code",
      "metadata": {
        "id": "_5_xvzCOLGkH",
        "outputId": "5691f3ea-2420-45f7-cb64-184439e39778"
      },
      "source": [
        "x[1] = \"r\"\n",
        "print(x)"
      ],
      "execution_count": null,
      "outputs": [
        {
          "output_type": "stream",
          "text": [
            "['a', 'r', 'c', 'd']\n"
          ],
          "name": "stdout"
        }
      ]
    },
    {
      "cell_type": "code",
      "metadata": {
        "id": "f2zYY2YvLGkI",
        "outputId": "14089904-ce46-4bfd-edda-d9cb93b2128d"
      },
      "source": [
        "x[2:] = [\"s\", \"t\"]\n",
        "print(x)"
      ],
      "execution_count": null,
      "outputs": [
        {
          "output_type": "stream",
          "text": [
            "['a', 'r', 's', 't']\n"
          ],
          "name": "stdout"
        }
      ]
    },
    {
      "cell_type": "markdown",
      "metadata": {
        "id": "Wjad9JCyLGkI"
      },
      "source": [
        "### pode-se adicionar elementos usando o sinal \"+\""
      ]
    },
    {
      "cell_type": "code",
      "metadata": {
        "id": "KfS3fEN9LGkJ",
        "outputId": "6a6916bc-c673-40f1-f3cd-eb5acea32af6"
      },
      "source": [
        "x = [\"a\", \"b\", \"c\", \"d\"]\n",
        "y = x + [\"e\", \"f\"]\n",
        "print(y)"
      ],
      "execution_count": null,
      "outputs": [
        {
          "output_type": "stream",
          "text": [
            "['a', 'b', 'c', 'd', 'e', 'f']\n"
          ],
          "name": "stdout"
        }
      ]
    },
    {
      "cell_type": "markdown",
      "metadata": {
        "id": "R8-2wpw7LGkJ"
      },
      "source": [
        "### deletar elementos"
      ]
    },
    {
      "cell_type": "code",
      "metadata": {
        "id": "dDUOLrI9LGkJ",
        "outputId": "52222547-61ab-4085-991e-7db6dcebf1b4"
      },
      "source": [
        "x = [\"a\", \"b\", \"c\", \"d\"]\n",
        "del(x[1])\n",
        "print(x)"
      ],
      "execution_count": null,
      "outputs": [
        {
          "output_type": "stream",
          "text": [
            "['a', 'c', 'd']\n"
          ],
          "name": "stdout"
        }
      ]
    },
    {
      "cell_type": "markdown",
      "metadata": {
        "id": "8llqinZHLGkJ"
      },
      "source": [
        "### deletar elementos faz com que os índices mudem"
      ]
    },
    {
      "cell_type": "code",
      "metadata": {
        "id": "RoNZmu-rLGkK",
        "outputId": "9b4800c9-cb1b-468b-91e0-5c241e5c6c45"
      },
      "source": [
        "areas = [\"hallway\", 11.25, \"kitchen\", 18.0,\n",
        "        \"chill zone\", 20.0, \"bedroom\", 10.75,\n",
        "         \"bathroom\", 10.50, \"poolhouse\", 24.5,\n",
        "         \"garage\", 15.45]\n",
        "print(areas)\n",
        "del(areas[10:12])\n",
        "print(areas)"
      ],
      "execution_count": null,
      "outputs": [
        {
          "output_type": "stream",
          "text": [
            "['hallway', 11.25, 'kitchen', 18.0, 'chill zone', 20.0, 'bedroom', 10.75, 'bathroom', 10.5, 'poolhouse', 24.5, 'garage', 15.45]\n",
            "['hallway', 11.25, 'kitchen', 18.0, 'chill zone', 20.0, 'bedroom', 10.75, 'bathroom', 10.5, 'garage', 15.45]\n"
          ],
          "name": "stdout"
        }
      ]
    },
    {
      "cell_type": "markdown",
      "metadata": {
        "id": "Ng3BbpUZLGkK"
      },
      "source": [
        "### quando se faz o slide o índice final não contabiliza, é intervalo aberto. [10:12] são os elementos nos índices 10 e 11"
      ]
    },
    {
      "cell_type": "code",
      "metadata": {
        "id": "ANAxkr5vLGkK",
        "outputId": "31a35055-6594-4e27-c36c-d64a2a6bff90"
      },
      "source": [
        "areas = [\"hallway\", 11.25, \"kitchen\", 18.0,\n",
        "        \"chill zone\", 20.0, \"bedroom\", 10.75,\n",
        "         \"bathroom\", 10.50, \"poolhouse\", 24.5,\n",
        "         \"garage\", 15.45]\n",
        "print(areas)\n",
        "del(areas[-4:-2])\n",
        "print(areas)"
      ],
      "execution_count": null,
      "outputs": [
        {
          "output_type": "stream",
          "text": [
            "['hallway', 11.25, 'kitchen', 18.0, 'chill zone', 20.0, 'bedroom', 10.75, 'bathroom', 10.5, 'poolhouse', 24.5, 'garage', 15.45]\n",
            "['hallway', 11.25, 'kitchen', 18.0, 'chill zone', 20.0, 'bedroom', 10.75, 'bathroom', 10.5, 'garage', 15.45]\n"
          ],
          "name": "stdout"
        }
      ]
    },
    {
      "cell_type": "markdown",
      "metadata": {
        "id": "3KqfYxA2LGkL"
      },
      "source": [
        "---\n",
        "## Listas são posições na memória, algumas operações tem comportamentos distintos\n",
        "\n"
      ]
    },
    {
      "cell_type": "code",
      "metadata": {
        "id": "9H57FhE1LGkL",
        "outputId": "50649bf0-7359-4190-95b2-8ed3330d1b7c"
      },
      "source": [
        "# Create list areas\n",
        "areas = [11.25, 18.0, 20.0, 10.75, 9.50]\n",
        "print(\"areas inicial:\", areas)\n",
        "# Create areas_copy\n",
        "areas_copy = areas\n",
        "\n",
        "# Change areas_copy\n",
        "areas_copy[0] = 5.0\n",
        "\n",
        "# Print areas\n",
        "print(\"areas:\", areas)\n",
        "print(\"areas_copy:\", areas_copy)"
      ],
      "execution_count": null,
      "outputs": [
        {
          "output_type": "stream",
          "text": [
            "areas inicial: [11.25, 18.0, 20.0, 10.75, 9.5]\n",
            "areas: [5.0, 18.0, 20.0, 10.75, 9.5]\n",
            "areas_copy: [5.0, 18.0, 20.0, 10.75, 9.5]\n"
          ],
          "name": "stdout"
        }
      ]
    },
    {
      "cell_type": "markdown",
      "metadata": {
        "id": "qDX_JNo2LGkL"
      },
      "source": [
        " Para previnir que a mudança ocorra nas duas variáveis é necessário usar o comando ***list( )*** ou ***[ : ]***"
      ]
    },
    {
      "cell_type": "code",
      "metadata": {
        "id": "G2Bs_AkQLGkL",
        "outputId": "dac57cbf-4ff2-4a04-c4ea-bf00c499dc64"
      },
      "source": [
        "# Create list areas\n",
        "areas = [11.25, 18.0, 20.0, 10.75, 9.50]\n",
        "print(\"areas inicial:\", areas)\n",
        "# Create areas_copy\n",
        "#areas_copy = list(areas)\n",
        "areas_copy = areas[:]\n",
        "\n",
        "# Change areas_copy\n",
        "areas_copy[0] = 5.0\n",
        "\n",
        "# Print areas\n",
        "print(\"areas:\", areas)\n",
        "print(\"areas_copy:\", areas_copy)"
      ],
      "execution_count": null,
      "outputs": [
        {
          "output_type": "stream",
          "text": [
            "areas inicial: [11.25, 18.0, 20.0, 10.75, 9.5]\n",
            "areas: [11.25, 18.0, 20.0, 10.75, 9.5]\n",
            "areas_copy: [5.0, 18.0, 20.0, 10.75, 9.5]\n"
          ],
          "name": "stdout"
        }
      ]
    },
    {
      "cell_type": "markdown",
      "metadata": {
        "id": "ZihNezXfLKOX"
      },
      "source": [
        "#### Teste"
      ]
    },
    {
      "cell_type": "code",
      "metadata": {
        "id": "8b6Kft16LGkL"
      },
      "source": [
        ""
      ],
      "execution_count": null,
      "outputs": []
    }
  ]
}